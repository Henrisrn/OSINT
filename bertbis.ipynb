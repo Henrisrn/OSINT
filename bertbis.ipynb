{
 "cells": [
  {
   "cell_type": "code",
   "execution_count": 1,
   "metadata": {},
   "outputs": [],
   "source": [
    "from transformers import BertTokenizer, BertForSequenceClassification\n",
    "from torch.utils.data import DataLoader, TensorDataset\n",
    "import torch\n",
    "from torch.optim import AdamW\n",
    "from sklearn.model_selection import train_test_split\n",
    "import pandas as pd\n",
    "from tqdm import tqdm\n",
    "import datetime\n",
    "from transformers import BertTokenizer, BertForSequenceClassification, logging\n",
    "import torch\n",
    "logging.set_verbosity_error()\n",
    "# Chargement des données\n",
    "dataglobal = pd.read_excel(\"DataPress.xlsx\")\n",
    "dataglobal[\"Titre Article\"] = dataglobal[\"Titre Article\"].fillna(\"\")\n",
    "dataglobal[\"Texte Article\"] = dataglobal[\"Texte Article\"].fillna(\"\")\n",
    "dataglobal[\"Isclimate\"] = dataglobal[\"Isclimate\"].apply(lambda x: False if x != True else x)\n",
    "dataglobal[\"text\"] = dataglobal[\"Titre Article\"] + \" \" + dataglobal[\"Texte Article\"]\n",
    "\n",
    "\n",
    "tokenizer = BertTokenizer.from_pretrained('bert-base-uncased')\n",
    "max_len = 200 # Choisissez une valeur max_len qui convient à votre projet\n",
    "batch_size = 8 # Adaptez la taille du lot en fonction de la mémoire disponible\n",
    "\n",
    "input_ids = []\n",
    "attention_masks = []\n",
    "labels = []\n",
    "\n",
    "for _, row in dataglobal.iterrows():\n",
    "    encoded = tokenizer.encode_plus(\n",
    "        row['text'],\n",
    "        add_special_tokens=True,\n",
    "        max_length=max_len,\n",
    "        padding='max_length',\n",
    "        return_attention_mask=True,\n",
    "        truncation=True\n",
    "    )\n",
    "    input_ids.append(encoded['input_ids'])\n",
    "    attention_masks.append(encoded['attention_mask'])\n",
    "    labels.append(int(row['Isclimate']))\n",
    "\n",
    "input_ids = torch.tensor(input_ids)\n",
    "attention_masks = torch.tensor(attention_masks)\n",
    "labels = torch.tensor(labels)"
   ]
  },
  {
   "cell_type": "code",
   "execution_count": 2,
   "metadata": {},
   "outputs": [],
   "source": [
    "dataset = TensorDataset(input_ids, attention_masks, labels)\n",
    "\n",
    "# Séparation des données en ensembles d'entraînement et de test\n",
    "train_data, val_data = train_test_split(dataset, test_size=0.1, random_state=42)\n",
    "train_dataloader = DataLoader(train_data, batch_size=batch_size, shuffle=True)\n",
    "val_dataloader = DataLoader(val_data, batch_size=batch_size, shuffle=False)\n",
    "\n",
    "# Initialisation du modèle BERT\n",
    "model = BertForSequenceClassification.from_pretrained('bert-base-uncased', num_labels=2)\n",
    "optimizer = AdamW(model.parameters(), lr=2e-5)"
   ]
  },
  {
   "cell_type": "code",
   "execution_count": 3,
   "metadata": {},
   "outputs": [
    {
     "name": "stderr",
     "output_type": "stream",
     "text": [
      "100%|██████████| 667/667 [7:42:56<00:00, 41.64s/it]      \n"
     ]
    },
    {
     "name": "stdout",
     "output_type": "stream",
     "text": [
      "Epoch: 1, Loss: 0.07238383432557022\n"
     ]
    },
    {
     "name": "stderr",
     "output_type": "stream",
     "text": [
      "100%|██████████| 667/667 [2:12:32<00:00, 11.92s/it]  \n"
     ]
    },
    {
     "name": "stdout",
     "output_type": "stream",
     "text": [
      "Epoch: 2, Loss: 0.0535032824290961\n"
     ]
    },
    {
     "name": "stderr",
     "output_type": "stream",
     "text": [
      "100%|██████████| 667/667 [2:06:08<00:00, 11.35s/it]  "
     ]
    },
    {
     "name": "stdout",
     "output_type": "stream",
     "text": [
      "Epoch: 3, Loss: 0.041402869674410654\n"
     ]
    },
    {
     "name": "stderr",
     "output_type": "stream",
     "text": [
      "\n"
     ]
    }
   ],
   "source": [
    "num_epochs = 3 # Ajustez selon vos besoins\n",
    "\n",
    "device = torch.device(\"cuda\" if torch.cuda.is_available() else \"cpu\")\n",
    "model.to(device)\n",
    "\n",
    "for epoch in range(num_epochs):\n",
    "    model.train()\n",
    "    total_loss = 0\n",
    "    for batch in tqdm(train_dataloader):\n",
    "        batch = tuple(t.to(device) for t in batch)\n",
    "        b_input_ids, b_input_mask, b_labels = batch\n",
    "        \n",
    "        model.zero_grad()\n",
    "        outputs = model(b_input_ids, attention_mask=b_input_mask, labels=b_labels)\n",
    "        \n",
    "        loss = outputs.loss\n",
    "        total_loss += loss.item()\n",
    "        loss.backward()\n",
    "        \n",
    "        torch.nn.utils.clip_grad_norm_(model.parameters(), 1.0)\n",
    "        optimizer.step()\n",
    "    \n",
    "    print(f\"Epoch: {epoch+1}, Loss: {total_loss/len(train_dataloader)}\")\n",
    "\n",
    "\n"
   ]
  },
  {
   "cell_type": "code",
   "execution_count": 8,
   "metadata": {},
   "outputs": [
    {
     "name": "stdout",
     "output_type": "stream",
     "text": [
      "La phrase n'est pas liée au changement climatique selon le modèle.\n"
     ]
    }
   ],
   "source": [
    "# Sauvegarder le modèle\n",
    "\n",
    "model.save_pretrained(\"C://Users//henri//Downloads\")\n",
    "tokenizer.save_pretrained(\"C://Users//henri//Downloads\")\n",
    "\n",
    "# Pour prédiction:\n",
    "# Mettre le modèle en mode évaluation\n",
    "model.eval()\n",
    "\n",
    "# Définir la phrase à tester\n",
    "text = \"Coupe du monde de rugby. En infraction antidopage, l’Afrique du Sud devrait éviter la sanction\"\n",
    "\n",
    "# Tokenization et préparation de l'entrée\n",
    "inputs = tokenizer(\n",
    "    text,\n",
    "    padding=True,\n",
    "    truncation=True,\n",
    "    max_length=200, # même longueur maximale que celle utilisée pendant l'entraînement\n",
    "    return_tensors=\"pt\" # retourner des torch.Tensor\n",
    ")\n",
    "\n",
    "# Prédiction avec le modèle\n",
    "with torch.no_grad():\n",
    "    outputs = model(**inputs)\n",
    "\n",
    "# Récupération de la prédiction\n",
    "logits = outputs.logits\n",
    "predicted_class_idx = torch.argmax(logits, dim=1).item() # prendre l'index de la classe avec la plus grande logit\n",
    "\n",
    "# Affichage de la prédiction\n",
    "if predicted_class_idx == 0:\n",
    "    print(\"La phrase n'est pas liée au changement climatique selon le modèle.\")\n",
    "else:\n",
    "    print(\"La phrase est liée au changement climatique selon le modèle.\")"
   ]
  }
 ],
 "metadata": {
  "kernelspec": {
   "display_name": "Python 3",
   "language": "python",
   "name": "python3"
  },
  "language_info": {
   "codemirror_mode": {
    "name": "ipython",
    "version": 3
   },
   "file_extension": ".py",
   "mimetype": "text/x-python",
   "name": "python",
   "nbconvert_exporter": "python",
   "pygments_lexer": "ipython3",
   "version": "3.11.1"
  }
 },
 "nbformat": 4,
 "nbformat_minor": 2
}
